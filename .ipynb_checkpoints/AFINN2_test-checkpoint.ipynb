{
 "cells": [
  {
   "cell_type": "code",
   "execution_count": 51,
   "metadata": {},
   "outputs": [],
   "source": [
    "#importing necessary packages\n",
    "import pandas as pd\n",
    "\n",
    "from afinn import Afinn\n",
    "afinn = Afinn(emoticons=True)\n",
    "\n",
    "import seaborn as sns\n",
    "\n",
    "import matplotlib.pyplot as plt\n",
    "#reading the file with reviews\n",
    "file = pd.read_excel ('reviews.xlsx')"
   ]
  },
  {
   "cell_type": "code",
   "execution_count": 52,
   "metadata": {},
   "outputs": [],
   "source": [
    "#creating the pandas' DataFrame\n",
    "df = pd.DataFrame(file, columns=file.columns)"
   ]
  },
  {
   "cell_type": "code",
   "execution_count": 53,
   "metadata": {},
   "outputs": [
    {
     "data": {
      "text/html": [
       "<div>\n",
       "<style scoped>\n",
       "    .dataframe tbody tr th:only-of-type {\n",
       "        vertical-align: middle;\n",
       "    }\n",
       "\n",
       "    .dataframe tbody tr th {\n",
       "        vertical-align: top;\n",
       "    }\n",
       "\n",
       "    .dataframe thead th {\n",
       "        text-align: right;\n",
       "    }\n",
       "</style>\n",
       "<table border=\"1\" class=\"dataframe\">\n",
       "  <thead>\n",
       "    <tr style=\"text-align: right;\">\n",
       "      <th></th>\n",
       "      <th>date</th>\n",
       "      <th>reviewer</th>\n",
       "      <th>helpful</th>\n",
       "      <th>comment</th>\n",
       "      <th>score</th>\n",
       "      <th>sentiment_category</th>\n",
       "    </tr>\n",
       "  </thead>\n",
       "  <tbody>\n",
       "    <tr>\n",
       "      <th>0</th>\n",
       "      <td>2020-03-27</td>\n",
       "      <td>reviewer's username removed</td>\n",
       "      <td>4967.0</td>\n",
       "      <td>This is a fun app but there are some curse wor...</td>\n",
       "      <td>17.0</td>\n",
       "      <td>positive</td>\n",
       "    </tr>\n",
       "    <tr>\n",
       "      <th>27</th>\n",
       "      <td>2020-05-05</td>\n",
       "      <td>reviewer's username removed</td>\n",
       "      <td>2359.0</td>\n",
       "      <td>Dear tik tok team. I love this app but i have ...</td>\n",
       "      <td>10.0</td>\n",
       "      <td>positive</td>\n",
       "    </tr>\n",
       "    <tr>\n",
       "      <th>847</th>\n",
       "      <td>2020-05-04</td>\n",
       "      <td>reviewer's username removed</td>\n",
       "      <td>2163.0</td>\n",
       "      <td>Fix the Android app so it doesn't look like we...</td>\n",
       "      <td>4.0</td>\n",
       "      <td>positive</td>\n",
       "    </tr>\n",
       "    <tr>\n",
       "      <th>1320</th>\n",
       "      <td>2020-04-30</td>\n",
       "      <td>reviewer's username removed</td>\n",
       "      <td>1965.0</td>\n",
       "      <td>The app itself is fine. But what is not is the...</td>\n",
       "      <td>4.0</td>\n",
       "      <td>positive</td>\n",
       "    </tr>\n",
       "    <tr>\n",
       "      <th>185</th>\n",
       "      <td>2020-04-08</td>\n",
       "      <td>reviewer's username removed</td>\n",
       "      <td>1897.0</td>\n",
       "      <td>It does what it says it'll do. Can be used for...</td>\n",
       "      <td>9.0</td>\n",
       "      <td>positive</td>\n",
       "    </tr>\n",
       "    <tr>\n",
       "      <th>...</th>\n",
       "      <td>...</td>\n",
       "      <td>...</td>\n",
       "      <td>...</td>\n",
       "      <td>...</td>\n",
       "      <td>...</td>\n",
       "      <td>...</td>\n",
       "    </tr>\n",
       "    <tr>\n",
       "      <th>1094</th>\n",
       "      <td>2020-04-05</td>\n",
       "      <td>reviewer's username removed</td>\n",
       "      <td>NaN</td>\n",
       "      <td>When you record with head phones in. There is ...</td>\n",
       "      <td>-2.0</td>\n",
       "      <td>negative</td>\n",
       "    </tr>\n",
       "    <tr>\n",
       "      <th>1134</th>\n",
       "      <td>2020-04-10</td>\n",
       "      <td>reviewer's username removed</td>\n",
       "      <td>NaN</td>\n",
       "      <td>Ever since I updated this app, I am unable to ...</td>\n",
       "      <td>-2.0</td>\n",
       "      <td>negative</td>\n",
       "    </tr>\n",
       "    <tr>\n",
       "      <th>1210</th>\n",
       "      <td>2020-04-25</td>\n",
       "      <td>reviewer's username removed</td>\n",
       "      <td>NaN</td>\n",
       "      <td>I give It Full starts Because It's a nice app ...</td>\n",
       "      <td>-2.0</td>\n",
       "      <td>negative</td>\n",
       "    </tr>\n",
       "    <tr>\n",
       "      <th>937</th>\n",
       "      <td>2020-04-06</td>\n",
       "      <td>reviewer's username removed</td>\n",
       "      <td>NaN</td>\n",
       "      <td>Really hate the logo. The design is like looki...</td>\n",
       "      <td>-3.0</td>\n",
       "      <td>negative</td>\n",
       "    </tr>\n",
       "    <tr>\n",
       "      <th>1101</th>\n",
       "      <td>2020-04-10</td>\n",
       "      <td>reviewer's username removed</td>\n",
       "      <td>NaN</td>\n",
       "      <td>It is a wonderful app provided some people und...</td>\n",
       "      <td>-3.0</td>\n",
       "      <td>negative</td>\n",
       "    </tr>\n",
       "  </tbody>\n",
       "</table>\n",
       "<p>1394 rows × 6 columns</p>\n",
       "</div>"
      ],
      "text/plain": [
       "           date                     reviewer  helpful  \\\n",
       "0    2020-03-27  reviewer's username removed   4967.0   \n",
       "27   2020-05-05  reviewer's username removed   2359.0   \n",
       "847  2020-05-04  reviewer's username removed   2163.0   \n",
       "1320 2020-04-30  reviewer's username removed   1965.0   \n",
       "185  2020-04-08  reviewer's username removed   1897.0   \n",
       "...         ...                          ...      ...   \n",
       "1094 2020-04-05  reviewer's username removed      NaN   \n",
       "1134 2020-04-10  reviewer's username removed      NaN   \n",
       "1210 2020-04-25  reviewer's username removed      NaN   \n",
       "937  2020-04-06  reviewer's username removed      NaN   \n",
       "1101 2020-04-10  reviewer's username removed      NaN   \n",
       "\n",
       "                                                comment  score  \\\n",
       "0     This is a fun app but there are some curse wor...   17.0   \n",
       "27    Dear tik tok team. I love this app but i have ...   10.0   \n",
       "847   Fix the Android app so it doesn't look like we...    4.0   \n",
       "1320  The app itself is fine. But what is not is the...    4.0   \n",
       "185   It does what it says it'll do. Can be used for...    9.0   \n",
       "...                                                 ...    ...   \n",
       "1094  When you record with head phones in. There is ...   -2.0   \n",
       "1134  Ever since I updated this app, I am unable to ...   -2.0   \n",
       "1210  I give It Full starts Because It's a nice app ...   -2.0   \n",
       "937   Really hate the logo. The design is like looki...   -3.0   \n",
       "1101  It is a wonderful app provided some people und...   -3.0   \n",
       "\n",
       "     sentiment_category  \n",
       "0              positive  \n",
       "27             positive  \n",
       "847            positive  \n",
       "1320           positive  \n",
       "185            positive  \n",
       "...                 ...  \n",
       "1094           negative  \n",
       "1134           negative  \n",
       "1210           negative  \n",
       "937            negative  \n",
       "1101           negative  \n",
       "\n",
       "[1394 rows x 6 columns]"
      ]
     },
     "execution_count": 53,
     "metadata": {},
     "output_type": "execute_result"
    }
   ],
   "source": [
    "#adding new two column: 'score' and 'sentiment_category' \n",
    "score = []\n",
    "[score.append(afinn.score(af)) for af in df.iloc[:,3]]\n",
    "df['score'] = score\n",
    "\n",
    "sentiment_category = ['positive' if sco > 0 \n",
    "                          else 'negative' if sco < 0 \n",
    "                              else 'neutral' \n",
    "                                  for sco in score]\n",
    "    \n",
    "\n",
    "df['sentiment_category'] = sentiment_category\n",
    "\n",
    "sorted = df.sort_values(['helpful', 'score'], ascending = [False, False])\n",
    "sorted"
   ]
  },
  {
   "cell_type": "code",
   "execution_count": 35,
   "metadata": {},
   "outputs": [
    {
     "ename": "SyntaxError",
     "evalue": "unexpected EOF while parsing (<ipython-input-35-fc128c5dc144>, line 4)",
     "output_type": "error",
     "traceback": [
      "\u001b[1;36m  File \u001b[1;32m\"<ipython-input-35-fc128c5dc144>\"\u001b[1;36m, line \u001b[1;32m4\u001b[0m\n\u001b[1;33m    #print(afinn.score(af))\u001b[0m\n\u001b[1;37m                           ^\u001b[0m\n\u001b[1;31mSyntaxError\u001b[0m\u001b[1;31m:\u001b[0m unexpected EOF while parsing\n"
     ]
    }
   ],
   "source": []
  },
  {
   "cell_type": "code",
   "execution_count": 54,
   "metadata": {},
   "outputs": [
    {
     "name": "stdout",
     "output_type": "stream",
     "text": [
      "count    1394.000000\n",
      "mean        6.424677\n",
      "std         7.165994\n",
      "min       -14.000000\n",
      "25%         2.000000\n",
      "50%         6.000000\n",
      "75%        10.000000\n",
      "max        44.000000\n",
      "Name: score, dtype: float64\n",
      "median:  6.0\n"
     ]
    }
   ],
   "source": [
    "#descriptive statistics for 'score' column\n",
    "stats = df['score'].describe()\n",
    "print(stats)\n",
    "print('median: ', df['score'].median())"
   ]
  },
  {
   "cell_type": "code",
   "execution_count": 59,
   "metadata": {},
   "outputs": [
    {
     "data": {
      "text/html": [
       "<div>\n",
       "<style scoped>\n",
       "    .dataframe tbody tr th:only-of-type {\n",
       "        vertical-align: middle;\n",
       "    }\n",
       "\n",
       "    .dataframe tbody tr th {\n",
       "        vertical-align: top;\n",
       "    }\n",
       "\n",
       "    .dataframe thead th {\n",
       "        text-align: right;\n",
       "    }\n",
       "</style>\n",
       "<table border=\"1\" class=\"dataframe\">\n",
       "  <thead>\n",
       "    <tr style=\"text-align: right;\">\n",
       "      <th></th>\n",
       "      <th>date</th>\n",
       "      <th>reviewer</th>\n",
       "      <th>helpful</th>\n",
       "      <th>comment</th>\n",
       "      <th>score</th>\n",
       "      <th>sentiment_category</th>\n",
       "    </tr>\n",
       "  </thead>\n",
       "  <tbody>\n",
       "    <tr>\n",
       "      <th>0</th>\n",
       "      <td>2020-03-27</td>\n",
       "      <td>reviewer's username removed</td>\n",
       "      <td>4967.0</td>\n",
       "      <td>This is a fun app but there are some curse wor...</td>\n",
       "      <td>17.0</td>\n",
       "      <td>positive</td>\n",
       "    </tr>\n",
       "    <tr>\n",
       "      <th>1</th>\n",
       "      <td>2020-04-12</td>\n",
       "      <td>reviewer's username removed</td>\n",
       "      <td>1754.0</td>\n",
       "      <td>This app is amazing! I honestly think you shou...</td>\n",
       "      <td>1.0</td>\n",
       "      <td>positive</td>\n",
       "    </tr>\n",
       "    <tr>\n",
       "      <th>2</th>\n",
       "      <td>2020-04-12</td>\n",
       "      <td>reviewer's username removed</td>\n",
       "      <td>515.0</td>\n",
       "      <td>Hi, since i got TikTok a few days ago, It was ...</td>\n",
       "      <td>0.0</td>\n",
       "      <td>neutral</td>\n",
       "    </tr>\n",
       "    <tr>\n",
       "      <th>3</th>\n",
       "      <td>2020-03-30</td>\n",
       "      <td>reviewer's username removed</td>\n",
       "      <td>1825.0</td>\n",
       "      <td>If you follow many people it says you're follo...</td>\n",
       "      <td>7.0</td>\n",
       "      <td>positive</td>\n",
       "    </tr>\n",
       "    <tr>\n",
       "      <th>4</th>\n",
       "      <td>2020-04-23</td>\n",
       "      <td>reviewer's username removed</td>\n",
       "      <td>520.0</td>\n",
       "      <td>Hi Tiktok team, I had a TikTok account with th...</td>\n",
       "      <td>-1.0</td>\n",
       "      <td>negative</td>\n",
       "    </tr>\n",
       "    <tr>\n",
       "      <th>...</th>\n",
       "      <td>...</td>\n",
       "      <td>...</td>\n",
       "      <td>...</td>\n",
       "      <td>...</td>\n",
       "      <td>...</td>\n",
       "      <td>...</td>\n",
       "    </tr>\n",
       "    <tr>\n",
       "      <th>1373</th>\n",
       "      <td>2020-04-25</td>\n",
       "      <td>reviewer's username removed</td>\n",
       "      <td>17.0</td>\n",
       "      <td>This company purposely puts cute/handsom/prett...</td>\n",
       "      <td>16.0</td>\n",
       "      <td>positive</td>\n",
       "    </tr>\n",
       "    <tr>\n",
       "      <th>1377</th>\n",
       "      <td>2020-03-21</td>\n",
       "      <td>reviewer's username removed</td>\n",
       "      <td>104.0</td>\n",
       "      <td>This app is very nice it helps me to get refre...</td>\n",
       "      <td>18.0</td>\n",
       "      <td>positive</td>\n",
       "    </tr>\n",
       "    <tr>\n",
       "      <th>1383</th>\n",
       "      <td>2020-04-22</td>\n",
       "      <td>reviewer's username removed</td>\n",
       "      <td>39.0</td>\n",
       "      <td>I have been using tiktok since it was musical....</td>\n",
       "      <td>-2.0</td>\n",
       "      <td>negative</td>\n",
       "    </tr>\n",
       "    <tr>\n",
       "      <th>1384</th>\n",
       "      <td>2020-05-02</td>\n",
       "      <td>reviewer's username removed</td>\n",
       "      <td>39.0</td>\n",
       "      <td>My experience with tiktok is Awesome, but ther...</td>\n",
       "      <td>1.0</td>\n",
       "      <td>positive</td>\n",
       "    </tr>\n",
       "    <tr>\n",
       "      <th>1385</th>\n",
       "      <td>2020-04-30</td>\n",
       "      <td>reviewer's username removed</td>\n",
       "      <td>374.0</td>\n",
       "      <td>Hi tiktok team, I love this app soooooo much. ...</td>\n",
       "      <td>1.0</td>\n",
       "      <td>positive</td>\n",
       "    </tr>\n",
       "  </tbody>\n",
       "</table>\n",
       "<p>630 rows × 6 columns</p>\n",
       "</div>"
      ],
      "text/plain": [
       "           date                     reviewer  helpful  \\\n",
       "0    2020-03-27  reviewer's username removed   4967.0   \n",
       "1    2020-04-12  reviewer's username removed   1754.0   \n",
       "2    2020-04-12  reviewer's username removed    515.0   \n",
       "3    2020-03-30  reviewer's username removed   1825.0   \n",
       "4    2020-04-23  reviewer's username removed    520.0   \n",
       "...         ...                          ...      ...   \n",
       "1373 2020-04-25  reviewer's username removed     17.0   \n",
       "1377 2020-03-21  reviewer's username removed    104.0   \n",
       "1383 2020-04-22  reviewer's username removed     39.0   \n",
       "1384 2020-05-02  reviewer's username removed     39.0   \n",
       "1385 2020-04-30  reviewer's username removed    374.0   \n",
       "\n",
       "                                                comment  score  \\\n",
       "0     This is a fun app but there are some curse wor...   17.0   \n",
       "1     This app is amazing! I honestly think you shou...    1.0   \n",
       "2     Hi, since i got TikTok a few days ago, It was ...    0.0   \n",
       "3     If you follow many people it says you're follo...    7.0   \n",
       "4     Hi Tiktok team, I had a TikTok account with th...   -1.0   \n",
       "...                                                 ...    ...   \n",
       "1373  This company purposely puts cute/handsom/prett...   16.0   \n",
       "1377  This app is very nice it helps me to get refre...   18.0   \n",
       "1383  I have been using tiktok since it was musical....   -2.0   \n",
       "1384  My experience with tiktok is Awesome, but ther...    1.0   \n",
       "1385  Hi tiktok team, I love this app soooooo much. ...    1.0   \n",
       "\n",
       "     sentiment_category  \n",
       "0              positive  \n",
       "1              positive  \n",
       "2               neutral  \n",
       "3              positive  \n",
       "4              negative  \n",
       "...                 ...  \n",
       "1373           positive  \n",
       "1377           positive  \n",
       "1383           negative  \n",
       "1384           positive  \n",
       "1385           positive  \n",
       "\n",
       "[630 rows x 6 columns]"
      ]
     },
     "execution_count": 59,
     "metadata": {},
     "output_type": "execute_result"
    }
   ],
   "source": [
    "#dropping reviews with 'helpful' below 15\n",
    "least_helpful = df[ (df['helpful']) < 15].index\n",
    "df.drop(least_helpful, inplace= True)\n",
    "df = df.dropna() \n",
    "df"
   ]
  },
  {
   "cell_type": "code",
   "execution_count": 55,
   "metadata": {},
   "outputs": [
    {
     "data": {
      "text/plain": [
       "<matplotlib.axes._subplots.AxesSubplot at 0x1d1b5b09520>"
      ]
     },
     "execution_count": 55,
     "metadata": {},
     "output_type": "execute_result"
    },
    {
     "data": {
      "image/png": "[encoded data removed]",
      "text/plain": [
       "<Figure size 432x288 with 1 Axes>"
      ]
     },
     "metadata": {
      "needs_background": "light"
     },
     "output_type": "display_data"
    }
   ],
   "source": [
    "#histogram\n",
    "df['score'].hist()"
   ]
  },
  {
   "cell_type": "code",
   "execution_count": 56,
   "metadata": {},
   "outputs": [
    {
     "data": {
      "text/plain": [
       "<matplotlib.axes._subplots.AxesSubplot at 0x1d1b5b52e50>"
      ]
     },
     "execution_count": 56,
     "metadata": {},
     "output_type": "execute_result"
    },
    {
     "data": {
      "image/png": "[encoded data removed]",
      "text/plain": [
       "<Figure size 432x288 with 1 Axes>"
      ]
     },
     "metadata": {
      "needs_background": "light"
     },
     "output_type": "display_data"
    }
   ],
   "source": [
    "#not useful...\n",
    "sns.stripplot(df['score'])"
   ]
  },
  {
   "cell_type": "code",
   "execution_count": 57,
   "metadata": {},
   "outputs": [
    {
     "data": {
      "text/plain": [
       "<matplotlib.axes._subplots.AxesSubplot at 0x1d1b5b8c8b0>"
      ]
     },
     "execution_count": 57,
     "metadata": {},
     "output_type": "execute_result"
    },
    {
     "data": {
      "image/png": "[encoded data removed]",
      "text/plain": [
       "<Figure size 432x288 with 1 Axes>"
      ]
     },
     "metadata": {
      "needs_background": "light"
     },
     "output_type": "display_data"
    }
   ],
   "source": [
    "#not useful...\n",
    "sns.boxplot(data=df['score'], palette=\"Set2\")"
   ]
  },
  {
   "cell_type": "code",
   "execution_count": 48,
   "metadata": {},
   "outputs": [],
   "source": []
  },
  {
   "cell_type": "code",
   "execution_count": 58,
   "metadata": {},
   "outputs": [
    {
     "data": {
      "text/plain": [
       "<matplotlib.axes._subplots.AxesSubplot at 0x1d1b5bd5d90>"
      ]
     },
     "execution_count": 58,
     "metadata": {},
     "output_type": "execute_result"
    },
    {
     "data": {
      "image/png": "[encoded data removed]",
      "text/plain": [
       "<Figure size 432x288 with 1 Axes>"
      ]
     },
     "metadata": {
      "needs_background": "light"
     },
     "output_type": "display_data"
    }
   ],
   "source": [
    "#column chart for 'sentiment_category'\n",
    "sns.countplot(df['sentiment_category'])"
   ]
  },
  {
   "cell_type": "code",
   "execution_count": null,
   "metadata": {},
   "outputs": [],
   "source": []
  }
 ],
 "metadata": {
  "kernelspec": {
   "display_name": "Python 3",
   "language": "python",
   "name": "python3"
  },
  "language_info": {
   "codemirror_mode": {
    "name": "ipython",
    "version": 3
   },
   "file_extension": ".py",
   "mimetype": "text/x-python",
   "name": "python",
   "nbconvert_exporter": "python",
   "pygments_lexer": "ipython3",
   "version": "3.8.3"
  }
 },
 "nbformat": 4,
 "nbformat_minor": 4
}
